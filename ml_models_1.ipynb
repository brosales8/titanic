{
 "cells": [
  {
   "cell_type": "markdown",
   "metadata": {},
   "source": [
    "## ML Modelling Notebook\n"
   ]
  },
  {
   "cell_type": "code",
   "execution_count": 201,
   "metadata": {},
   "outputs": [],
   "source": [
    "import pandas as pd\n",
    "import numpy as np\n",
    "import seaborn as sns"
   ]
  },
  {
   "cell_type": "code",
   "execution_count": 202,
   "metadata": {},
   "outputs": [],
   "source": [
    "# Load all datasets for training, validation and testing\n",
    "X_train = pd.read_csv('../datasets/cleaned_datasets/Xtrain.csv')\n",
    "y_train = pd.read_csv('../datasets/cleaned_datasets/ytrain.csv')\n",
    "X_val = pd.read_csv('../datasets/cleaned_datasets/Xval.csv')\n",
    "y_val = pd.read_csv('../datasets/cleaned_datasets/yval.csv')\n",
    "X_test = pd.read_csv('../datasets/cleaned_datasets/Xtest.csv')"
   ]
  },
  {
   "cell_type": "code",
   "execution_count": 203,
   "metadata": {},
   "outputs": [
    {
     "name": "stdout",
     "output_type": "stream",
     "text": [
      "Training Set Shape: X: (878, 18), y: (878, 1)\n",
      "Validation Set Shape: X: (220, 18), y: (220, 1)\n",
      "Test Set Shape: X: (418, 19)\n"
     ]
    }
   ],
   "source": [
    "# Quick shape check \n",
    "\n",
    "print(f'Training Set Shape: X: {X_train.shape}, y: {y_train.shape}')\n",
    "print(f'Validation Set Shape: X: {X_val.shape}, y: {y_val.shape}')\n",
    "print(f'Test Set Shape: X: {X_test.shape}')"
   ]
  },
  {
   "cell_type": "markdown",
   "metadata": {},
   "source": [
    "### Removing Family Size and Embark Variables based on Random Forest Feature Importance Results"
   ]
  },
  {
   "cell_type": "code",
   "execution_count": 204,
   "metadata": {},
   "outputs": [
    {
     "data": {
      "text/plain": [
       "Index(['Age', 'Fare', 'Pclass_2', 'Pclass_3', 'Sex_male', 'Embarked_Q',\n",
       "       'Embarked_S', 'Titles_Miss', 'Titles_Mr', 'Titles_Mrs', 'Family_Size_1',\n",
       "       'Family_Size_2', 'Family_Size_3', 'Family_Size_4', 'Family_Size_5',\n",
       "       'Family_Size_6', 'Family_Size_7', 'Family_Size_10'],\n",
       "      dtype='object')"
      ]
     },
     "execution_count": 204,
     "metadata": {},
     "output_type": "execute_result"
    }
   ],
   "source": [
    "X_train.columns"
   ]
  },
  {
   "cell_type": "code",
   "execution_count": 205,
   "metadata": {},
   "outputs": [
    {
     "data": {
      "text/plain": [
       "Index(['PassengerId', 'Age', 'Fare', 'Pclass_2', 'Pclass_3', 'Sex_male',\n",
       "       'Embarked_Q', 'Embarked_S', 'Titles_Miss', 'Titles_Mr', 'Titles_Mrs',\n",
       "       'Family_Size_1', 'Family_Size_2', 'Family_Size_3', 'Family_Size_4',\n",
       "       'Family_Size_5', 'Family_Size_6', 'Family_Size_7', 'Family_Size_10'],\n",
       "      dtype='object')"
      ]
     },
     "execution_count": 205,
     "metadata": {},
     "output_type": "execute_result"
    }
   ],
   "source": [
    "X_test.columns"
   ]
  },
  {
   "cell_type": "code",
   "execution_count": 206,
   "metadata": {},
   "outputs": [
    {
     "name": "stdout",
     "output_type": "stream",
     "text": [
      "Training Set Shape: X: (878, 8), y: (878,)\n",
      "Validation Set Shape: X: (220, 8), y: (220,)\n",
      "Test Set Shape: X: (418, 8)\n"
     ]
    }
   ],
   "source": [
    "# Select columns to input to model, and convert Dataframe to np vectors\n",
    "# column_ranges = np.r_[0:7, 11:13]\n",
    "\n",
    "column_ranges = ['Age','Fare','Pclass_2','Pclass_3','Sex_male','Titles_Miss', 'Titles_Mr', 'Titles_Mrs']\n",
    "# print(f'X_train Cols: {X_train.columns} , \\n X_test Cols: {X_test.columns}')\n",
    "\n",
    "# Convert Pandas Dataframes to Numpy Vectors\n",
    "# Xtrain = Xtrain.loc[:, column_ranges].values\n",
    "# ytrain = ytrain.iloc[:,0].values\n",
    "# Xtest =  Xtest.loc[:, column_ranges].values\n",
    "\n",
    "# Convert Pandas Dataframes to Numpy Vectors\n",
    "\n",
    "Xtrain = X_train[column_ranges].values\n",
    "ytrain = y_train.iloc[:,0].values\n",
    "Xval = X_val[column_ranges].values\n",
    "yval = y_val.iloc[:,0].values\n",
    "Xtest = X_test[column_ranges].values\n",
    "\n",
    "print(f'Training Set Shape: X: {Xtrain.shape}, y: {ytrain.shape}')\n",
    "print(f'Validation Set Shape: X: {Xval.shape}, y: {yval.shape}')\n",
    "print(f'Test Set Shape: X: {Xtest.shape}')\n"
   ]
  },
  {
   "cell_type": "markdown",
   "metadata": {},
   "source": [
    "## Models to implement\n",
    "1) Logistic Regression\n",
    "2) Random Forest\n",
    "3) Ensamble Methods\n",
    "\n",
    "Goal: Predict if an individual Survived or not to Titanic tragedy based on Features inputs"
   ]
  },
  {
   "cell_type": "markdown",
   "metadata": {},
   "source": [
    "## Logistic Regresion Model"
   ]
  },
  {
   "cell_type": "code",
   "execution_count": 207,
   "metadata": {},
   "outputs": [],
   "source": [
    "# Create a DataFrame to save predictions\n",
    "predictions = pd.DataFrame()"
   ]
  },
  {
   "cell_type": "code",
   "execution_count": 208,
   "metadata": {},
   "outputs": [],
   "source": [
    "# ML Libraries required\n",
    "from sklearn.linear_model import LogisticRegression\n",
    "from sklearn.model_selection import GridSearchCV\n",
    "from sklearn.metrics import accuracy_score, confusion_matrix, ConfusionMatrixDisplay"
   ]
  },
  {
   "cell_type": "code",
   "execution_count": 209,
   "metadata": {},
   "outputs": [
    {
     "name": "stdout",
     "output_type": "stream",
     "text": [
      "Fitting 5 folds for each of 100 candidates, totalling 500 fits\n",
      "Best parameters: {'C': 4.094915062380419, 'penalty': 'l1', 'solver': 'liblinear'}\n",
      "Best cross-validation score: 0.7517077922077922\n",
      "Validation set score: 0.8409090909090909\n"
     ]
    }
   ],
   "source": [
    "# Model Training\n",
    "# Define the parameter grid\n",
    "param_grid = {\n",
    "    'C': np.logspace(-10, 10, 50),  # Regularization parameter\n",
    "    'penalty': ['l2','l1'],      # Norm used in the penalization\n",
    "    'solver': ['liblinear']       # Solver that supports both l1 and l2 penalties\n",
    "}\n",
    "\n",
    "lr = LogisticRegression(random_state = 42)\n",
    "# Set up the GridSearchCV\n",
    "grid_search = GridSearchCV(lr, param_grid, cv=5, scoring='accuracy', verbose=1)\n",
    "\n",
    "# Fit GridSearchCV to the data\n",
    "grid_search.fit(Xtrain, ytrain)\n",
    "\n",
    "# Get the best parameters and the best score\n",
    "best_params = grid_search.best_params_\n",
    "best_score = grid_search.best_score_\n",
    "\n",
    "print(f\"Best parameters: {best_params}\")\n",
    "print(f\"Best cross-validation score: {best_score}\")\n",
    "\n",
    "# Evaluate on the test set with the best found parameters\n",
    "best_model = grid_search.best_estimator_\n",
    "val_score = best_model.score(Xval, yval)\n",
    "print(f\"Validation set score: {val_score}\")\n"
   ]
  },
  {
   "cell_type": "code",
   "execution_count": 210,
   "metadata": {},
   "outputs": [
    {
     "data": {
      "image/png": "[encoded data removed]",
      "text/plain": [
       "<Figure size 432x288 with 2 Axes>"
      ]
     },
     "metadata": {
      "needs_background": "light"
     },
     "output_type": "display_data"
    }
   ],
   "source": [
    "ypred = best_model.predict(Xval)\n",
    "conf_matrix = confusion_matrix(yval, ypred)\n",
    "\n",
    "# Visualize Confusion Matrix with Seaborn HeatMap\n",
    "hm = sns.heatmap(conf_matrix, annot=True, fmt='d')\n",
    "# set plot title\n",
    "hm.set_title(\"Confusion Matrix Logistic Regression\", fontsize=14, pad=20)\n",
    "\n",
    "# set x-axis label and ticks. \n",
    "hm.set_xlabel(\"Predicted\", fontsize=14, labelpad=20)\n",
    "hm.xaxis.set_ticklabels(['Dead', 'Survived'])\n",
    " \n",
    "# set y-axis label and ticks\n",
    "hm.set_ylabel(\"Actual\", fontsize=14, labelpad=20)\n",
    "hm.yaxis.set_ticklabels(['Dead', 'Survived']) \n",
    "\n",
    "# Predict Xtest\n",
    "ytest = best_model.predict(Xtest)"
   ]
  },
  {
   "cell_type": "code",
   "execution_count": 211,
   "metadata": {},
   "outputs": [],
   "source": [
    "# Save ypred in Dataframe\n",
    "predictions['lr'] = pd.DataFrame(data= ytest, columns=['lr'])"
   ]
  },
  {
   "cell_type": "markdown",
   "metadata": {},
   "source": [
    "## Random Forest Classifier Model"
   ]
  },
  {
   "cell_type": "code",
   "execution_count": 212,
   "metadata": {},
   "outputs": [],
   "source": [
    "from sklearn.ensemble import RandomForestClassifier"
   ]
  },
  {
   "cell_type": "code",
   "execution_count": 213,
   "metadata": {},
   "outputs": [
    {
     "name": "stdout",
     "output_type": "stream",
     "text": [
      "Fitting 5 folds for each of 6 candidates, totalling 30 fits\n",
      "Best parameters: {'bootstrap': True, 'criterion': 'gini'}\n",
      "Best cross-validation score: 0.8735714285714286\n",
      "Validation set score: 0.9\n"
     ]
    }
   ],
   "source": [
    "# Model Training\n",
    "# Define the parameter grid\n",
    "param_grid = {    \n",
    "    'criterion': ['gini','entropy','log_loss'],\n",
    "    # 'min_samples_split': [5,10],\n",
    "    # 'min_samples_leaf': [2,4],\n",
    "    # 'oob_score': [True, False],\n",
    "    'bootstrap': [True, False]\n",
    "}\n",
    "\n",
    "rf = RandomForestClassifier(random_state = 42, n_jobs=4)\n",
    "# Set up the GridSearchCV\n",
    "grid_search = GridSearchCV(rf, param_grid, cv=5, scoring='accuracy', verbose=1)\n",
    "\n",
    "# Fit GridSearchCV to the data\n",
    "grid_search.fit(Xtrain, ytrain)\n",
    "\n",
    "# Get the best parameters and the best score\n",
    "best_params = grid_search.best_params_\n",
    "best_score = grid_search.best_score_\n",
    "\n",
    "print(f\"Best parameters: {best_params}\")\n",
    "print(f\"Best cross-validation score: {best_score}\")\n",
    "\n",
    "# Evaluate on the test set with the best found parameters\n",
    "best_model = grid_search.best_estimator_\n",
    "val_score = best_model.score(Xval, yval)\n",
    "print(f\"Validation set score: {val_score}\")\n"
   ]
  },
  {
   "cell_type": "code",
   "execution_count": 214,
   "metadata": {},
   "outputs": [
    {
     "data": {
      "image/png": "[encoded data removed]",
      "text/plain": [
       "<Figure size 432x288 with 2 Axes>"
      ]
     },
     "metadata": {
      "needs_background": "light"
     },
     "output_type": "display_data"
    }
   ],
   "source": [
    "ypred = best_model.predict(Xval)\n",
    "conf_matrix = confusion_matrix(yval, ypred)\n",
    "\n",
    "# Visualize Confusion Matrix with Seaborn HeatMap\n",
    "hm = sns.heatmap(conf_matrix, annot=True, fmt='d')\n",
    "# set plot title\n",
    "hm.set_title(\"Confusion Matrix Logistic Regression\", fontsize=14, pad=20)\n",
    "\n",
    "# set x-axis label and ticks. \n",
    "hm.set_xlabel(\"Predicted\", fontsize=14, labelpad=20)\n",
    "hm.xaxis.set_ticklabels(['Dead', 'Survived'])\n",
    " \n",
    "# set y-axis label and ticks\n",
    "hm.set_ylabel(\"Actual\", fontsize=14, labelpad=20)\n",
    "hm.yaxis.set_ticklabels(['Dead', 'Survived']) \n",
    "\n",
    "# Predict Xtest\n",
    "ytest = best_model.predict(Xtest)"
   ]
  },
  {
   "cell_type": "code",
   "execution_count": 215,
   "metadata": {},
   "outputs": [],
   "source": [
    "# Save ypred in Dataframe\n",
    "predictions['rf'] = pd.DataFrame(data= ytest, columns=['rf'])"
   ]
  },
  {
   "cell_type": "code",
   "execution_count": 216,
   "metadata": {},
   "outputs": [
    {
     "name": "stdout",
     "output_type": "stream",
     "text": [
      "Fare: 0.389750007267959\n",
      "Age: 0.29304634403860047\n",
      "Titles_Mr: 0.10824587240949902\n",
      "Sex_male: 0.08394149648307528\n",
      "Pclass_3: 0.059393049115848584\n",
      "Titles_Miss: 0.028581868748346548\n",
      "Titles_Mrs: 0.02029967605147613\n",
      "Pclass_2: 0.01674168588519488\n"
     ]
    }
   ],
   "source": [
    "importances = best_model.feature_importances_\n",
    "features = X_train[column_ranges].columns\n",
    "# Print the feature importances\n",
    "# for feature, importance in zip(features, importances):\n",
    "#     print(f\"{feature}: {importance}\")\n",
    "\n",
    "# Optionally, you can sort the features by importance\n",
    "sorted_indices = np.argsort(importances)[::-1]\n",
    "for idx in sorted_indices:\n",
    "    print(f\"{features[idx]}: {importances[idx]}\")"
   ]
  },
  {
   "cell_type": "markdown",
   "metadata": {},
   "source": [
    "## Ada Boost Classifier"
   ]
  },
  {
   "cell_type": "code",
   "execution_count": 217,
   "metadata": {},
   "outputs": [],
   "source": [
    "from sklearn.ensemble import AdaBoostClassifier"
   ]
  },
  {
   "cell_type": "code",
   "execution_count": 218,
   "metadata": {},
   "outputs": [
    {
     "name": "stdout",
     "output_type": "stream",
     "text": [
      "Fitting 5 folds for each of 100 candidates, totalling 500 fits\n",
      "Best parameters: {'algorithm': 'SAMME', 'learning_rate': 1.7657888717633194}\n",
      "Best cross-validation score: 0.8086168831168831\n",
      "Validation set score: 0.8409090909090909\n"
     ]
    }
   ],
   "source": [
    "# Model Training\n",
    "# Define the parameter grid\n",
    "param_grid = {    \n",
    "    'learning_rate': np.logspace(0.1, 1, 50),\n",
    "    'algorithm': ['SAMME', 'SAMME.R']\n",
    "}\n",
    "\n",
    "ab = AdaBoostClassifier(random_state = 42)\n",
    "# Set up the GridSearchCV\n",
    "grid_search = GridSearchCV(ab, param_grid, cv=5, scoring='accuracy', verbose=1)\n",
    "\n",
    "# Fit GridSearchCV to the data\n",
    "grid_search.fit(Xtrain, ytrain)\n",
    "\n",
    "# Get the best parameters and the best score\n",
    "best_params = grid_search.best_params_\n",
    "best_score = grid_search.best_score_\n",
    "\n",
    "print(f\"Best parameters: {best_params}\")\n",
    "print(f\"Best cross-validation score: {best_score}\")\n",
    "\n",
    "# Evaluate on the test set with the best found parameters\n",
    "best_model = grid_search.best_estimator_\n",
    "val_score = best_model.score(Xval, yval)\n",
    "print(f\"Validation set score: {val_score}\")\n",
    "\n"
   ]
  },
  {
   "cell_type": "code",
   "execution_count": 219,
   "metadata": {},
   "outputs": [
    {
     "data": {
      "image/png": "[encoded data removed]",
      "text/plain": [
       "<Figure size 432x288 with 2 Axes>"
      ]
     },
     "metadata": {
      "needs_background": "light"
     },
     "output_type": "display_data"
    }
   ],
   "source": [
    "ypred = best_model.predict(Xval)\n",
    "conf_matrix = confusion_matrix(yval, ypred)\n",
    "\n",
    "# Visualize Confusion Matrix with Seaborn HeatMap\n",
    "hm = sns.heatmap(conf_matrix, annot=True, fmt='d')\n",
    "# set plot title\n",
    "hm.set_title(\"Confusion Matrix Logistic Regression\", fontsize=14, pad=20)\n",
    "\n",
    "# set x-axis label and ticks. \n",
    "hm.set_xlabel(\"Predicted\", fontsize=14, labelpad=20)\n",
    "hm.xaxis.set_ticklabels(['Dead', 'Survived'])\n",
    " \n",
    "# set y-axis label and ticks\n",
    "hm.set_ylabel(\"Actual\", fontsize=14, labelpad=20)\n",
    "hm.yaxis.set_ticklabels(['Dead', 'Survived']) \n",
    "\n",
    "# Predict Xtest\n",
    "ytest = best_model.predict(Xtest)"
   ]
  },
  {
   "cell_type": "code",
   "execution_count": 220,
   "metadata": {},
   "outputs": [],
   "source": [
    "# Save ypred in Dataframe\n",
    "predictions['ada'] = pd.DataFrame(data= ytest, columns=['ada'])"
   ]
  },
  {
   "cell_type": "code",
   "execution_count": 221,
   "metadata": {},
   "outputs": [
    {
     "data": {
      "text/html": [
       "<div>\n",
       "<style scoped>\n",
       "    .dataframe tbody tr th:only-of-type {\n",
       "        vertical-align: middle;\n",
       "    }\n",
       "\n",
       "    .dataframe tbody tr th {\n",
       "        vertical-align: top;\n",
       "    }\n",
       "\n",
       "    .dataframe thead th {\n",
       "        text-align: right;\n",
       "    }\n",
       "</style>\n",
       "<table border=\"1\" class=\"dataframe\">\n",
       "  <thead>\n",
       "    <tr style=\"text-align: right;\">\n",
       "      <th></th>\n",
       "      <th>PassengerId</th>\n",
       "      <th>lr</th>\n",
       "      <th>rf</th>\n",
       "      <th>ada</th>\n",
       "    </tr>\n",
       "  </thead>\n",
       "  <tbody>\n",
       "    <tr>\n",
       "      <th>0</th>\n",
       "      <td>892</td>\n",
       "      <td>0</td>\n",
       "      <td>0</td>\n",
       "      <td>0</td>\n",
       "    </tr>\n",
       "    <tr>\n",
       "      <th>1</th>\n",
       "      <td>893</td>\n",
       "      <td>1</td>\n",
       "      <td>0</td>\n",
       "      <td>1</td>\n",
       "    </tr>\n",
       "    <tr>\n",
       "      <th>2</th>\n",
       "      <td>894</td>\n",
       "      <td>0</td>\n",
       "      <td>1</td>\n",
       "      <td>0</td>\n",
       "    </tr>\n",
       "    <tr>\n",
       "      <th>3</th>\n",
       "      <td>895</td>\n",
       "      <td>0</td>\n",
       "      <td>0</td>\n",
       "      <td>0</td>\n",
       "    </tr>\n",
       "    <tr>\n",
       "      <th>4</th>\n",
       "      <td>896</td>\n",
       "      <td>1</td>\n",
       "      <td>1</td>\n",
       "      <td>1</td>\n",
       "    </tr>\n",
       "  </tbody>\n",
       "</table>\n",
       "</div>"
      ],
      "text/plain": [
       "   PassengerId  lr  rf  ada\n",
       "0          892   0   0    0\n",
       "1          893   1   0    1\n",
       "2          894   0   1    0\n",
       "3          895   0   0    0\n",
       "4          896   1   1    1"
      ]
     },
     "execution_count": 221,
     "metadata": {},
     "output_type": "execute_result"
    }
   ],
   "source": [
    "predictions = pd.concat([X_test['PassengerId'], predictions], axis=1)\n",
    "predictions.head()"
   ]
  },
  {
   "cell_type": "code",
   "execution_count": 222,
   "metadata": {},
   "outputs": [],
   "source": [
    "# Create Submission Files for Kaggle Website\n",
    "predictions[['PassengerId','lr']].rename(columns={'lr': 'Survived'}).to_csv('../datasets/predictions/lr.csv', index= False)\n",
    "predictions[['PassengerId','rf']].rename(columns={'rf': 'Survived'}).to_csv('../datasets/predictions/rf.csv', index= False)\n",
    "predictions[['PassengerId','ada']].rename(columns={'ada': 'Survived'}).to_csv('../datasets/predictions/ada.csv', index= False)"
   ]
  },
  {
   "cell_type": "code",
   "execution_count": null,
   "metadata": {},
   "outputs": [],
   "source": []
  },
  {
   "cell_type": "code",
   "execution_count": null,
   "metadata": {},
   "outputs": [],
   "source": []
  }
 ],
 "metadata": {
  "kernelspec": {
   "display_name": "Python 3",
   "language": "python",
   "name": "python3"
  },
  "language_info": {
   "codemirror_mode": {
    "name": "ipython",
    "version": 3
   },
   "file_extension": ".py",
   "mimetype": "text/x-python",
   "name": "python",
   "nbconvert_exporter": "python",
   "pygments_lexer": "ipython3",
   "version": "3.9.10"
  }
 },
 "nbformat": 4,
 "nbformat_minor": 2
}
